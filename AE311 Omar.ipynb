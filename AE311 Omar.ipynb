{
 "cells": [
  {
   "cell_type": "code",
   "execution_count": 1,
   "metadata": {},
   "outputs": [],
   "source": [
    "import numpy as np\n",
    "import numpy.linalg as la\n",
    "import math \n",
    "import pandas as pd\n",
    "import matplotlib.pyplot as plt\n",
    "from scipy.interpolate import splprep, splev"
   ]
  },
  {
   "cell_type": "code",
   "execution_count": 2,
   "metadata": {},
   "outputs": [
    {
     "data": {
      "text/plain": [
       "<function matplotlib.pyplot.show(close=None, block=None)>"
      ]
     },
     "execution_count": 2,
     "metadata": {},
     "output_type": "execute_result"
    },
    {
     "data": {
      "image/png": "[encoded data removed]",
      "text/plain": [
       "<Figure size 432x288 with 1 Axes>"
      ]
     },
     "metadata": {
      "needs_background": "light"
     },
     "output_type": "display_data"
    }
   ],
   "source": [
    "# #importing airfoil coordinates dataframe -- Omar\n",
    "df_airfoil_0015 = pd.read_csv(r'/Users/Omar/Documents/GitHub/ae311_project2_group14/NACA2412_160.csv')\n",
    "x_2412 = pd.DataFrame(df_airfoil_0015,columns= ['x-coordinates'])\n",
    "y_2412 = pd.DataFrame(df_airfoil_0015,columns= ['y-coordinates'])\n",
    "dfx = pd.DataFrame(x_2412)\n",
    "dfy = pd.DataFrame(y_2412)\n",
    "x_2412 = np.array(dfx.values.tolist()).flatten()\n",
    "y_2412 = np.array(dfy.values.tolist()).flatten()\n",
    "\n",
    "#plot airfoil coordinates\n",
    "graph_2412 = plt.plot(x_2412,y_2412)\n",
    "plt.ylim(-0.5,0.5)\n",
    "plt.show"
   ]
  },
  {
   "cell_type": "code",
   "execution_count": 3,
   "metadata": {},
   "outputs": [],
   "source": [
    "# # #importing airfoil coordinates dataframe -- Anna\n",
    "# df_airfoil_2412 = pd.read_csv(r'/Users/annahylbert/Documents/GitHub/ae311_project2_group14/NACA2412_160.csv')\n",
    "# x_2412 = pd.DataFrame(df_airfoil_2412,columns= ['x-coordinates'])\n",
    "# y_2412 = pd.DataFrame(df_airfoil_2412,columns= ['y-coordinates'])\n",
    "# dfx = pd.DataFrame(x_2412)\n",
    "# dfy = pd.DataFrame(y_2412)\n",
    "# x_2412 = np.array(dfx.values.tolist()).flatten()\n",
    "# y_2412 = np.array(dfy.values.tolist()).flatten()\n",
    "\n",
    "# #plot airfoil coordinates\n",
    "# graph_2412 = plt.plot(x_2412,y_2412)\n",
    "# plt.ylim(-0.5,0.5)\n",
    "# plt.show"
   ]
  },
  {
   "cell_type": "code",
   "execution_count": 4,
   "metadata": {},
   "outputs": [
    {
     "name": "stderr",
     "output_type": "stream",
     "text": [
      "C:\\Users\\Omar\\anaconda3\\lib\\site-packages\\scipy\\interpolate\\_fitpack_impl.py:226: RuntimeWarning: Setting x[1][331]=x[1][0]\n",
      "  warnings.warn(RuntimeWarning('Setting x[%d][%d]=x[%d][0]' %\n"
     ]
    },
    {
     "data": {
      "image/png": "[encoded data removed]",
      "text/plain": [
       "<Figure size 432x288 with 1 Axes>"
      ]
     },
     "metadata": {
      "needs_background": "light"
     },
     "output_type": "display_data"
    }
   ],
   "source": [
    "# m = number of points, x/y = coordinates of airfoil\n",
    "# gets m+1 points to create m panels (#2)\n",
    "def mOne(m, x, y):\n",
    "    x = x.tolist()\n",
    "    y = y.tolist()\n",
    "    midpoints = [(x[j], y[j]) for j in range(len(x))] #don't think of these as actual midpoints, instead they are the ends points of all of the panels\n",
    "    midpoints = np.array(midpoints)\n",
    "    ticks, u = splprep(midpoints.T, u=None, s=0.0, per=1)\n",
    "    u_new = np.linspace(u.min(), u.max(), m)\n",
    "    xnew, ynew = splev(u_new, ticks, der=0)\n",
    "    return xnew, ynew\n",
    "\n",
    "mpoints = 100\n",
    "xnew, ynew = mOne(mpoints, x_2412, y_2412)\n",
    "newScatter = plt.scatter(xnew, ynew)\n",
    "plt.ylim(-0.5,0.5)\n",
    "plt.show()"
   ]
  },
  {
   "cell_type": "code",
   "execution_count": 5,
   "metadata": {},
   "outputs": [
    {
     "data": {
      "text/plain": [
       "(-0.5, 0.5)"
      ]
     },
     "execution_count": 5,
     "metadata": {},
     "output_type": "execute_result"
    },
    {
     "data": {
      "image/png": "[encoded data removed]",
      "text/plain": [
       "<Figure size 432x288 with 1 Axes>"
      ]
     },
     "metadata": {
      "needs_background": "light"
     },
     "output_type": "display_data"
    }
   ],
   "source": [
    "#creating chord line\n",
    "leftx = np.amin(xnew)\n",
    "rightx = np.amax(xnew)\n",
    "leftinx = np.where(xnew == leftx)\n",
    "rightinx = np.where(xnew == rightx)\n",
    "lefty = ynew[leftinx]\n",
    "righty = ynew[rightinx]\n",
    "x = np.linspace(leftx, rightx, 100)\n",
    "m = (righty - lefty)/(rightx - leftx)\n",
    "bx = xnew[0]\n",
    "by = ynew[0]\n",
    "b = by - m*bx\n",
    "y = m*x + b\n",
    "plt.plot(x, y)\n",
    "newScatter = plt.scatter(xnew, ynew)\n",
    "plt.ylim(-0.5,0.5)\n"
   ]
  },
  {
   "cell_type": "code",
   "execution_count": 6,
   "metadata": {},
   "outputs": [
    {
     "name": "stdout",
     "output_type": "stream",
     "text": [
      "(51,)\n",
      "(50,)\n"
     ]
    },
    {
     "data": {
      "image/png": "[encoded data removed]",
      "text/plain": [
       "<Figure size 432x288 with 1 Axes>"
      ]
     },
     "metadata": {
      "needs_background": "light"
     },
     "output_type": "display_data"
    }
   ],
   "source": [
    "\"\"\"splitting pannels into top and bottom sections by seeing if each point\n",
    "is lower or higher than chord line\"\"\"\n",
    "upperx = []\n",
    "uppery = []\n",
    "lowerx = []\n",
    "lowery = []\n",
    "\n",
    "def truefalse(y, val):\n",
    "    boole = True\n",
    "    for i in y:\n",
    "        if val <= i:\n",
    "            boole = False\n",
    "    return boole\n",
    "    \n",
    "for i in ynew:\n",
    "    if truefalse(y, i) == True:\n",
    "        uppery.append(i)\n",
    "        upperx.append(xnew[np.where(ynew == i)])\n",
    "    else:\n",
    "        lowery.append(i)\n",
    "        lowerx.append(xnew[np.where(ynew == i)])\n",
    "    \n",
    "\n",
    "lowerx = np.array(lowerx).flatten()\n",
    "upperx = np.array(upperx).flatten()\n",
    "lowery = np.array(lowery)\n",
    "uppery = np.array(uppery)\n",
    "\n",
    "firsty = lowery[0]\n",
    "lowery = np.delete(lowery, 0, axis=None)\n",
    "uppery = np.insert(uppery, 0, firsty, axis=None)\n",
    "\n",
    "firstx = lowerx[0]\n",
    "lowerx = np.delete(lowerx, 0, axis=None)\n",
    "upperx = np.insert(upperx, 0, firstx, axis=None)\n",
    "\n",
    "midy = lowery[0]\n",
    "uppery = np.append(uppery, midy, axis=None)\n",
    "\n",
    "midx = lowerx[0]\n",
    "upperx = np.append(upperx, midx, axis=None)\n",
    "\n",
    "plt.plot(upperx, uppery)\n",
    "plt.plot(lowerx, lowery)\n",
    "plt.ylim(-0.5,0.5)\n",
    "\n",
    "print(upperx.shape)\n",
    "print(lowerx.shape)"
   ]
  },
  {
   "cell_type": "code",
   "execution_count": 7,
   "metadata": {},
   "outputs": [
    {
     "data": {
      "image/png": "[encoded data removed]",
      "text/plain": [
       "<Figure size 432x288 with 1 Axes>"
      ]
     },
     "metadata": {
      "needs_background": "light"
     },
     "output_type": "display_data"
    }
   ],
   "source": [
    "#finding midpoint of each panel(#2) based off of points created using mOne function\n",
    "# x,y are the coordinates of points from mOne function\n",
    "def midpoint_finder(x, y):\n",
    "    x = x.tolist()\n",
    "    y = y.tolist()\n",
    "    tempMid = [(x[j], y[j]) for j in range(len(x))]\n",
    "    midpoints = []\n",
    "    mCount = 0\n",
    "    \n",
    "    for i in range(len(x)):\n",
    "        midpoints.append(((tempMid[i][0] + tempMid[i+1][0])/2 , (tempMid[i][1] + tempMid[i+1][1])/2))\n",
    "        mCount = mCount + 1\n",
    "        if mCount == len(x)-1 or i+1 == len(x)-1:\n",
    "            break                \n",
    "\n",
    "    xval = [k[0] for k in midpoints]\n",
    "    yval = [k[1] for k in midpoints]\n",
    "    xval = np.array(xval)\n",
    "    yval = np.array(yval)\n",
    "    xval = xval.flatten()\n",
    "    yval = yval.flatten()\n",
    "    return xval, yval\n",
    "\n",
    "#making sure it is working (plots look right!!!)\n",
    "xnewM, ynewM = midpoint_finder(xnew, ynew)\n",
    "    \n",
    "newScatter = plt.scatter(xnewM, ynewM, color='blue')\n",
    "oldScatter = plt.scatter(xnew, ynew, color='red')\n",
    "plt.ylim(-0.5,0.5)\n",
    "plt.show()"
   ]
  },
  {
   "cell_type": "code",
   "execution_count": 8,
   "metadata": {},
   "outputs": [],
   "source": [
    "#3 function for finding theta i and theta j\n",
    "#3 b matrix \n",
    "def thetas(dx, dy):\n",
    "    dx = np.diff(dx)\n",
    "    dy = np.diff(dy)\n",
    "    dy = np.flip(dy, 0)\n",
    "    dx = np.flip(dx, 0)\n",
    "    return (np.arctan2(dy, dx) + np.pi)\n",
    "\n",
    "def thetasUL(dxu, dyu, dxl, dyl):\n",
    "    dxu = np.diff(dxu)\n",
    "    dyu = np.diff(dyu)\n",
    "    dxl = np.diff(dxl)\n",
    "    dyl = np.diff(dyl)\n",
    "    dyu = np.flip(dyu, 0)\n",
    "    dxu = np.flip(dxu, 0)\n",
    "    dyl = np.flip(dyl, 0)\n",
    "    dxl = np.flip(dxl, 0)\n",
    "    return (np.arctan2(dyl, dxl) + np.pi), (np.arctan2(dyu, dxu) + np.pi)\n",
    "    \n",
    "def bmatrix(thetas, alpha):\n",
    "    bmat = []\n",
    "    for i in thetas:\n",
    "        bmat.append(np.sin(i - alpha))\n",
    "    bmat.append(0.0)\n",
    "    bmat = np.array(bmat)\n",
    "    return bmat.T\n",
    "\n",
    "thetas = thetas(xnew, ynew)* 180/np.pi\n",
    "bmatrix = bmatrix(thetas, 20)\n",
    "\n",
    "thetasL, thetasU = thetasUL(upperx, uppery, lowerx, lowery)\n",
    "thetasL = thetasL * 180/np.pi\n",
    "thetasU = thetasU * 180/np.pi"
   ]
  },
  {
   "cell_type": "code",
   "execution_count": 9,
   "metadata": {},
   "outputs": [],
   "source": [
    "#define values needed to create A matrix\n",
    "\n",
    "#endpoints of each panel\n",
    "Xj = xnew \n",
    "Yj = ynew\n",
    "\n",
    "#control/midpoints of each panel\n",
    "xhatj = xnewM \n",
    "yhatj = ynewM\n",
    "\n",
    "\n",
    "#array of all of the thetas\n",
    "theta_j = thetas * np.pi/180\n",
    "\n",
    "#length of each panel\n",
    "delta_sj = np.sqrt(np.diff(Xj)**2 + np.diff(Yj)**2)\n",
    "\n",
    "\n",
    "#using formulas from individual portion, creating matrices\n",
    "\n",
    "Xj = np.delete(Xj, -1, axis=None)\n",
    "Yj = np.delete(Yj, -1, axis=None)\n",
    "\n",
    "\n",
    "# A = []\n",
    "# B = []\n",
    "# C = []\n",
    "# D = []\n",
    "# E = []\n",
    "# F = []\n",
    "# G = []\n",
    "# P = []\n",
    "# Q = []\n",
    "\n",
    "# for i in range(len(Xj)):\n",
    "#     A.append(-(xhatj[i]-Xj)*np.cos(theta_j) - (yhatj[i]-Yj)*np.sin(theta_j))\n",
    "# A = np.array(A)\n",
    "\n",
    "# for i in range(len(Xj)):\n",
    "#     B.append((xhatj[i] - Xj)**2 + (yhatj[i] - Yj)**2)\n",
    "# B = np.array(B)\n",
    "\n",
    "# for i in range(len(Xj)):\n",
    "#     C.append(np.sin(theta_j[i] - theta_j))\n",
    "# C = np.array(C)\n",
    "\n",
    "# for i in range(len(Xj)):\n",
    "#     D.append(np.cos(theta_j[i] - theta_j))\n",
    "# D = np.array(D)\n",
    "\n",
    "# for i in range(len(Xj)):\n",
    "#     E.append((xhatj[i] - Xj)*np.sin(theta_j) - (yhatj[i] - Yj)*np.cos(theta_j))\n",
    "# E = np.array(E)\n",
    "\n",
    "# dsjA = []\n",
    "# for j in range(len(Xj)):\n",
    "#     dsjA.append(delta_sj + 2*A[i, :])\n",
    "# dsjA = np.array(dsjA)\n",
    "# for i in range(len(Xj)):\n",
    "#     F.append(np.log(1 + (delta_sj @ dsjA)@(la.inv(B))))\n",
    "# F = np.array(F)\n",
    "\n",
    "# for i in range(len(Xj)):\n",
    "#     G.append(np.arctan(np.matmul(E, delta_sj)@la.inv(B + np.matmul(A, delta_sj))))\n",
    "# G = np.array(G)\n",
    "\n",
    "# for i in range(len(Xj)):\n",
    "#     P.append((xhatj[i] - Xj)*np.sin(theta_j[i] - 2*theta_j) + (yhatj[i] - Yj)*np.cos(theta_j[i] - 2*theta_j))\n",
    "# P = np.array(P)\n",
    "    \n",
    "# for i in range(len(Xj)):\n",
    "#     Q.append((xhatj[i] - Xj)*np.cos(theta_j[i] - 2*theta_j) - (yhatj[i] - Yj)*np.sin(theta_j[i] - 2*theta_j))\n",
    "# Q = np.array(Q)\n",
    "\n",
    "# R = D + (1/(2*delta_sj))*np.matmul(Q, F) - np.matmul(np.matmul((np.matmul(A, C) + np.matmul(D, E)), G), (1/delta_sj))\n",
    "# r = (1/2)*(np.matmul(D, F)) + np.matmul(C, G) - R\n",
    "\n",
    "# Amat = []\n",
    "# for i in range(len(Xj)):\n",
    "#     Amatrow = []\n",
    "#     for j in range(len(Xj)):\n",
    "#         if j == 0:\n",
    "#             Amatrow.append(r[i, j])\n",
    "#         elif j == m - 2:\n",
    "#             Amatrow.append(R[i, j])\n",
    "#         else:\n",
    "#             Amatrow.append(r[i, j] + R[i, j-1])\n",
    "#     Amat.append(Amatrow)\n",
    "    \n",
    "# Amat = np.array(Amat)\n",
    "# print(Xj.shape)"
   ]
  },
  {
   "cell_type": "code",
   "execution_count": 10,
   "metadata": {},
   "outputs": [
    {
     "name": "stdout",
     "output_type": "stream",
     "text": [
      "[ 0.20534046  2.47316207  2.08546226  2.45728189  2.57893791  2.57908958\n",
      "  2.51158658  2.40337968  2.27610781  2.13990072  2.00561372  1.88131672\n",
      "  1.77095582  1.67796141  1.60483092  1.54987393  1.51241758  1.4917686\n",
      "  1.48182718  1.47935008  1.4792722   1.47351479  1.46059959  1.43212209\n",
      "  1.38406467  1.31521363  1.2226695   1.10670497  0.9702754   0.81289247\n",
      "  0.65053733  0.49822109  0.34612247  0.19180392  0.0350172  -0.12331338\n",
      " -0.27795882 -0.41707045 -0.51883165 -0.5479199  -0.47937464 -0.35087195\n",
      " -0.3518422  -0.79785494 -1.52578918 -1.21292935 -2.08691999 -1.98381227\n",
      " -3.10882852  0.11498653 -1.72992074  1.40086908  0.59244185  0.74075407\n",
      " -0.26105276  0.47371237 -0.25079835 -0.5000175  -0.07525352  0.07021752\n",
      " -0.26416556 -0.65847017 -0.77170428 -0.61143563 -0.40148803 -0.34847171\n",
      " -0.51566759 -0.996439   -0.76397798 -0.95903837 -1.22413586 -1.46454734\n",
      " -1.66119567 -1.79824214 -1.87159928 -1.88845172 -1.85910701 -1.80022359\n",
      " -1.72748705 -1.65583007 -1.5965635  -1.5613138  -1.55397829 -1.58074454\n",
      " -1.64157324 -1.73563977 -1.85877418 -2.00669169 -2.17248549 -2.34724543\n",
      " -2.52225603 -2.68440414 -2.82108191 -2.9141216  -2.94682798 -2.88172249\n",
      " -2.6762874  -1.97420453 -3.01140977 -0.20534046]\n"
     ]
    }
   ],
   "source": [
    "shapeCon = (int(mpoints-1), int(mpoints-1))\n",
    "A = np.empty(shapeCon)\n",
    "B = np.empty(shapeCon)\n",
    "C = np.empty(shapeCon)\n",
    "D = np.empty(shapeCon)\n",
    "E = np.empty(shapeCon)\n",
    "F = np.empty(shapeCon)\n",
    "G = np.empty(shapeCon)\n",
    "P = np.empty(shapeCon)\n",
    "Q = np.empty(shapeCon)\n",
    "R = np.empty(shapeCon)\n",
    "r = np.empty(shapeCon)\n",
    "for i in range(len(Xj)):\n",
    "    for j in range(len(Xj)):\n",
    "        A[i, j] = (-(xhatj[i]-Xj[j])*np.cos(theta_j[j]) - (yhatj[i]-Yj[j])*np.sin(theta_j[j]))\n",
    "        B[i, j] = ((xhatj[i] - Xj[j])**2 + (yhatj[i] - Yj[j])**2)\n",
    "        C[i, j] = (np.sin(theta_j[i] - theta_j[j]))\n",
    "        D[i, j] = (np.cos(theta_j[i] - theta_j[j]))\n",
    "        E[i, j] = ((xhatj[i] - Xj[j])*np.sin(theta_j[j]) - (yhatj[i] - Yj[j])*np.cos(theta_j[j]))\n",
    "        F[i, j] = (np.log(1 + (delta_sj[j]*(delta_sj[j] + 2*A[i, j])) / B[i, j]))\n",
    "        G[i, j] = (np.arctan(E[i, j]*delta_sj[j] / (B[i, j] + A[i, j]*delta_sj[j])))\n",
    "        P[i, j] = ((xhatj[i] - Xj[j])*np.sin(theta_j[i] - 2*theta_j[j]) + (yhatj[i] - Yj[j])*np.cos(theta_j[i] - 2*theta_j[j]))\n",
    "        Q[i, j] = ((xhatj[i] - Xj[j])*np.cos(theta_j[i] - 2*theta_j[j]) - (yhatj[i] - Yj[j])*np.sin(theta_j[i] - 2*theta_j[j]))\n",
    "        R[i, j] = D[i, j] + (1/(2*delta_sj[j]))*Q[i, j]*F[i, j] - (A[i, j]*C[i, j] + D[i, j]*E[i, j])*G[i, j]*(1/(2*delta_sj[j]))\n",
    "        r[i, j] = (1/2)*(D[i, j]*F[i, j]) + (C[i, j]*G[i, j]) - R[i, j]\n",
    "\n",
    "Amat = []\n",
    "for i in range(len(Xj)):\n",
    "    Amatrow = []\n",
    "    for j in range(len(Xj)):\n",
    "        if j == 0:\n",
    "            Amatrow.append(r[i, j])\n",
    "        else:\n",
    "            Amatrow.append(r[i, j] + R[i, j-1])\n",
    "    Amat.append(Amatrow)\n",
    "Amat = np.array(Amat)\n",
    "\n",
    "lastCol = []\n",
    "lastCol.append(R[:, -1])\n",
    "lastCol = np.array(lastCol)\n",
    "\n",
    "Amat = np.concatenate((Amat, lastCol.T), axis=1)\n",
    "\n",
    "\n",
    "ones = np.zeros(Amat.shape[1]-2)    \n",
    "ones = np.insert(ones, 0, 1)\n",
    "ones = np.append(ones, 1)\n",
    "ones = ones.reshape(1, Amat.shape[1])\n",
    "\n",
    "Amat = np.concatenate((Amat, ones), axis=0)\n",
    "\n",
    "gammas = la.solve(Amat, bmatrix)\n"
   ]
  },
  {
   "cell_type": "code",
   "execution_count": null,
   "metadata": {},
   "outputs": [],
   "source": []
  },
  {
   "cell_type": "code",
   "execution_count": null,
   "metadata": {},
   "outputs": [],
   "source": []
  }
 ],
 "metadata": {
  "kernelspec": {
   "display_name": "Python 3",
   "language": "python",
   "name": "python3"
  },
  "language_info": {
   "codemirror_mode": {
    "name": "ipython",
    "version": 3
   },
   "file_extension": ".py",
   "mimetype": "text/x-python",
   "name": "python",
   "nbconvert_exporter": "python",
   "pygments_lexer": "ipython3",
   "version": "3.8.5"
  }
 },
 "nbformat": 4,
 "nbformat_minor": 4
}
